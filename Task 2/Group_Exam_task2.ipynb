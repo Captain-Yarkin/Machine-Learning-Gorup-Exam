{
 "cells": [
  {
   "cell_type": "code",
   "execution_count": 27,
   "id": "42f19603",
   "metadata": {},
   "outputs": [
    {
     "name": "stdout",
     "output_type": "stream",
     "text": [
      "BernoulliNB() accuracy: 0.5961049957662997\n",
      "MultinomialNB() accuracy: 0.6215071972904318\n"
     ]
    }
   ],
   "source": [
    "#initialization of file, imports and variables\n",
    "\n",
    "from sklearn.naive_bayes import BernoulliNB\n",
    "from sklearn.naive_bayes import MultinomialNB\n",
    "from sklearn.feature_extraction.text import CountVectorizer\n",
    "from sklearn.feature_extraction.text import TfidfVectorizer\n",
    "from sklearn.model_selection import train_test_split\n",
    "from sklearn.metrics import accuracy_score\n",
    "import re\n",
    "import json\n",
    "\n",
    "# a function cleanText that removes some characters and spaces\n",
    "def cleanText(string):\n",
    "    \n",
    "    # removing these characters from the string\n",
    "    toRemove = [\":\", \",\", \".\", '\"', \"-\", \"/\", \"?\", \"«\", \"(\", '»', \")\"]\n",
    "    pattern = '[' + ''.join(toRemove) + ']'\n",
    "    # Remove characters matched by pattern\n",
    "    string = re.sub(pattern, '', string)\n",
    "    \n",
    "    listOfWords = string.split(\" \") # making the string into a list of words\n",
    "    listOfWords = [word.lower() for word in listOfWords] # making words lowercase\n",
    "    listOfWords = [word for word in listOfWords if word != \"\"] # removing empty characters in the list\n",
    "    \n",
    "    return \" \".join(listOfWords) #returning string from the list of words joined by one space\n",
    "\n",
    "# runs the models based off the classifiers list, containing which models to run\n",
    "def run_models(classifiers):\n",
    "    for c in classifiers:\n",
    "        c.fit(X_train, sentiments)\n",
    "        prediction = c.predict(X_test)\n",
    "        accuracy = accuracy_score(sentiments_test, prediction)\n",
    "        print(f\"{c} accuracy:\", accuracy)\n",
    "\n",
    "texts = []\n",
    "texts_test = []\n",
    "\n",
    "sentiments = []\n",
    "sentiments_test = []\n",
    "\n",
    "# opening the train and test files\n",
    "f_train = open(\"train.json\", encoding=\"utf-8\")\n",
    "f_test = open(\"test.json\", encoding=\"utf-8\")\n",
    "\n",
    "# taking both data sets, putting the data into the lists, one list for the text(cleaned), one list for the sentiment(positive, neutral, or negative)\n",
    "data = json.load(f_train)\n",
    "for line in data:\n",
    "    \n",
    "    sentiment = line[\"label\"]\n",
    "    text = line[\"text\"]\n",
    "    \n",
    "    text = cleanText(text)\n",
    "      \n",
    "    texts.append(text)\n",
    "    sentiments.append(sentiment)\n",
    "\n",
    "data_test = json.load(f_test)\n",
    "for line in data_test:\n",
    "    \n",
    "    sentiment = line[\"label\"]\n",
    "    text = line[\"text\"]\n",
    "                \n",
    "    text = cleanText(text)\n",
    "    \n",
    "    texts_test.append(text)\n",
    "    sentiments_test.append(sentiment)\n",
    "    \n",
    "# vectorizers - convert the training texts into a numerical representation, (output is a sparse matrix, each row - a text in the data, each column -unique word in the vocabulary)\n",
    "tfidf = TfidfVectorizer()\n",
    "countVect = CountVectorizer()\n",
    "\n",
    "#choosing which vectorizer to use when run\n",
    "vectorizer = countVect\n",
    "\n",
    "X_train = vectorizer.fit_transform(texts)\n",
    "X_test = vectorizer.transform(texts_test)\n",
    "\n",
    "BernbClassifier = BernoulliNB()\n",
    "MnbClassifier = MultinomialNB()\n",
    "\n",
    "# list of classifiers or models to use on our data\n",
    "classifiers = [BernbClassifier, MnbClassifier]\n",
    "\n",
    "#run the models, printing the accuracy as output\n",
    "run_models(classifiers)\n",
    "\n",
    "\n"
   ]
  },
  {
   "cell_type": "code",
   "execution_count": null,
   "id": "e5182df7",
   "metadata": {},
   "outputs": [],
   "source": []
  },
  {
   "cell_type": "code",
   "execution_count": 43,
   "id": "989cc8dc",
   "metadata": {},
   "outputs": [],
   "source": [
    " "
   ]
  },
  {
   "cell_type": "code",
   "execution_count": 10,
   "id": "04685a63",
   "metadata": {},
   "outputs": [],
   "source": []
  },
  {
   "cell_type": "code",
   "execution_count": null,
   "id": "73397f14",
   "metadata": {},
   "outputs": [],
   "source": []
  },
  {
   "cell_type": "code",
   "execution_count": null,
   "id": "07cf4493",
   "metadata": {},
   "outputs": [],
   "source": []
  }
 ],
 "metadata": {
  "kernelspec": {
   "display_name": "Python 3 (ipykernel)",
   "language": "python",
   "name": "python3"
  },
  "language_info": {
   "codemirror_mode": {
    "name": "ipython",
    "version": 3
   },
   "file_extension": ".py",
   "mimetype": "text/x-python",
   "name": "python",
   "nbconvert_exporter": "python",
   "pygments_lexer": "ipython3",
   "version": "3.9.13"
  }
 },
 "nbformat": 4,
 "nbformat_minor": 5
}
