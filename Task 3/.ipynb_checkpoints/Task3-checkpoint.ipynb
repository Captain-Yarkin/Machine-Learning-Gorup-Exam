{
 "cells": [
  {
   "cell_type": "code",
   "execution_count": 1,
   "id": "d23f566e",
   "metadata": {},
   "outputs": [
    {
     "name": "stderr",
     "output_type": "stream",
     "text": [
      "2023-04-24 17:05:52.985152: I tensorflow/core/util/port.cc:110] oneDNN custom operations are on. You may see slightly different numerical results due to floating-point round-off errors from different computation orders. To turn them off, set the environment variable `TF_ENABLE_ONEDNN_OPTS=0`.\n",
      "2023-04-24 17:05:52.986704: I tensorflow/tsl/cuda/cudart_stub.cc:28] Could not find cuda drivers on your machine, GPU will not be used.\n",
      "2023-04-24 17:05:53.017250: I tensorflow/tsl/cuda/cudart_stub.cc:28] Could not find cuda drivers on your machine, GPU will not be used.\n",
      "2023-04-24 17:05:53.017838: I tensorflow/core/platform/cpu_feature_guard.cc:182] This TensorFlow binary is optimized to use available CPU instructions in performance-critical operations.\n",
      "To enable the following instructions: AVX2 AVX512F AVX512_VNNI FMA, in other operations, rebuild TensorFlow with the appropriate compiler flags.\n",
      "2023-04-24 17:05:53.577679: W tensorflow/compiler/tf2tensorrt/utils/py_utils.cc:38] TF-TRT Warning: Could not find TensorRT\n"
     ]
    }
   ],
   "source": [
    "import tensorflow as tf\n",
    "from tensorflow.keras.applications import VGG16\n",
    "from tensorflow.keras.preprocessing import image\n",
    "from tensorflow.keras.models import Model\n",
    "from tensorflow.keras.layers import Dense, GlobalAveragePooling2D\n",
    "from tensorflow.keras.optimizers import Adam\n",
    "import numpy as np\n",
    "import os\n",
    "import pickle\n",
    "import matplotlib.pyplot as plt"
   ]
  },
  {
   "cell_type": "code",
   "execution_count": 2,
   "id": "1e07af15",
   "metadata": {},
   "outputs": [],
   "source": [
    "# Define the function to load our dataset files\n",
    "def unpickle(file):\n",
    "    with open(file, 'rb') as fo:\n",
    "        dict = pickle.load(fo, encoding='bytes')\n",
    "    return dict\n",
    "\n",
    "# Load and preprocess the dataset\n",
    "def load_cifar10_data(data_dir):\n",
    "    train_data = None\n",
    "    train_labels = []\n",
    "\n",
    "    for i in range(1, 6):\n",
    "        data_dict = unpickle(os.path.join(data_dir, f'data_batch_{i}'))\n",
    "        if i == 1:\n",
    "            train_data = data_dict[b'data']\n",
    "        else:\n",
    "            train_data = np.vstack((train_data, data_dict[b'data']))\n",
    "        train_labels += data_dict[b'labels']\n",
    "\n",
    "    test_data_dict = unpickle(os.path.join(data_dir, 'test_batch'))\n",
    "    test_data = test_data_dict[b'data']\n",
    "    test_labels = test_data_dict[b'labels']\n",
    "\n",
    "    train_data = train_data.reshape((len(train_data), 3, 32, 32))\n",
    "    train_data = np.rollaxis(train_data, 1, 4)\n",
    "    train_labels = np.array(train_labels)\n",
    "\n",
    "    test_data = test_data.reshape((len(test_data), 3, 32, 32))\n",
    "    test_data = np.rollaxis(test_data, 1, 4)\n",
    "    test_labels = np.array(test_labels)\n",
    "\n",
    "    return train_data, train_labels, test_data, test_labels\n",
    "\n",
    "\n",
    "data_dir = './cifar-10-batches-py'\n",
    "x_train, y_train, x_test, y_test = load_cifar10_data(data_dir)\n",
    "\n",
    "# Preprocess input data, and normalize the input data \n",
    "x_train = x_train / 255.0\n",
    "x_test = x_test / 255.0\n",
    "\n",
    "chosen_category = 0\n",
    "\n",
    "# Convert class labels to one-hot encoding\n",
    "y_train = tf.keras.utils.to_categorical(y_train, 10)\n",
    "y_test = tf.keras.utils.to_categorical(y_test, 10)\n"
   ]
  },
  {
   "cell_type": "code",
   "execution_count": 3,
   "id": "5f34af26",
   "metadata": {},
   "outputs": [],
   "source": [
    "# Function to plot validation loss\n",
    "def plot_validation_loss(history):\n",
    "    plt.plot(history.history['val_loss'])\n",
    "    plt.title('Validation Loss')\n",
    "    plt.ylabel('Loss')\n",
    "    plt.xlabel('Epoch')\n",
    "    plt.legend(['Validation'], loc='upper right')\n",
    "    plt.show()"
   ]
  },
  {
   "cell_type": "code",
   "execution_count": 4,
   "id": "ed7ea67a",
   "metadata": {},
   "outputs": [
    {
     "name": "stderr",
     "output_type": "stream",
     "text": [
      "2023-04-24 17:05:55.957588: E tensorflow/compiler/xla/stream_executor/cuda/cuda_driver.cc:266] failed call to cuInit: CUDA_ERROR_NO_DEVICE: no CUDA-capable device is detected\n"
     ]
    }
   ],
   "source": [
    "# Load the pre-trained VGG16 model\n",
    "base_model = VGG16(weights='imagenet', include_top=False, input_shape=(32, 32, 3))\n",
    "\n",
    "# Add a global spatial average pooling layer\n",
    "x = base_model.output\n",
    "x = GlobalAveragePooling2D()(x)\n",
    "\n",
    "# Add a fully connected layer\n",
    "x = Dense(1024, activation='relu')(x)\n",
    "\n",
    "# Add the final output layer for 10-class classification\n",
    "# predictions = Dense(10, activation='softmax')(x)\n",
    "predictions = Dense(10, activation='sigmoid')(x)\n",
    "\n",
    "# Create the final model\n",
    "model = Model(inputs=base_model.input, outputs=predictions)\n"
   ]
  },
  {
   "cell_type": "code",
   "execution_count": 5,
   "id": "70f899d7",
   "metadata": {},
   "outputs": [
    {
     "name": "stdout",
     "output_type": "stream",
     "text": [
      "Epoch 1/5\n",
      "1563/1563 [==============================] - 179s 114ms/step - loss: 1.4983 - accuracy: 0.4908 - val_loss: 1.3314 - val_accuracy: 0.5412\n",
      "Epoch 2/5\n",
      "1563/1563 [==============================] - 181s 116ms/step - loss: 1.2591 - accuracy: 0.5673 - val_loss: 1.2519 - val_accuracy: 0.5625\n",
      "Epoch 3/5\n",
      "1563/1563 [==============================] - 181s 116ms/step - loss: 1.1943 - accuracy: 0.5874 - val_loss: 1.2137 - val_accuracy: 0.5774\n",
      "Epoch 4/5\n",
      "1563/1563 [==============================] - 181s 116ms/step - loss: 1.1570 - accuracy: 0.6012 - val_loss: 1.1996 - val_accuracy: 0.5811\n",
      "Epoch 5/5\n",
      "1563/1563 [==============================] - 182s 116ms/step - loss: 1.1272 - accuracy: 0.6115 - val_loss: 1.1810 - val_accuracy: 0.5861\n"
     ]
    }
   ],
   "source": [
    "# Fine-tune only the top layers (freeze all convolutional layers)\n",
    "for layer in base_model.layers:\n",
    "    layer.trainable = False\n",
    "\n",
    "# Compile the model\n",
    "model.compile(optimizer=Adam(learning_rate=0.0001), loss='categorical_crossentropy', metrics=['accuracy'])\n",
    "\n",
    "# Training the model\n",
    "history = model.fit(x_train, y_train, epochs=5, validation_data=(x_test, y_test))\n"
   ]
  },
  {
   "cell_type": "code",
   "execution_count": 6,
   "id": "a4e90162",
   "metadata": {},
   "outputs": [
    {
     "data": {
      "image/png": "[encoded data removed]",
      "text/plain": [
       "<Figure size 640x480 with 1 Axes>"
      ]
     },
     "metadata": {},
     "output_type": "display_data"
    }
   ],
   "source": [
    "# Plotting the validation loss\n",
    "plot_validation_loss(history)"
   ]
  },
  {
   "cell_type": "code",
   "execution_count": 7,
   "id": "215730c2",
   "metadata": {},
   "outputs": [
    {
     "name": "stdout",
     "output_type": "stream",
     "text": [
      "1/1 [==============================] - 0s 113ms/step\n",
      "The image is predicted to be an airplane.\n"
     ]
    }
   ],
   "source": [
    "\n",
    "# Load a new image and preprocess it\n",
    "new_image_path = './new_images/picture_1.png'# Here is the pathing for the image so if you want to add an image just past it into this folder and change the name.\n",
    "new_image = image.load_img(new_image_path, target_size=(32, 32))\n",
    "new_image = image.img_to_array(new_image)\n",
    "new_image = np.expand_dims(new_image, axis=0)\n",
    "new_image = new_image / 255.0\n",
    "\n",
    "# Predict the class of the new image\n",
    "prediction = model.predict(new_image)\n",
    "predicted_class = 1 if prediction[0][0] > 0.5 else 0\n",
    "\n",
    "# Get the class with the highest probability\n",
    "# predicted_class = np.argmax(prediction)\n",
    "\n",
    "# Print the prediction result\n",
    "# categories = ['airplane', 'automobile', 'bird', 'cat', 'deer', 'dog', 'frog', 'horse', 'ship', 'truck']\n",
    "# print(f\"The image is predicted to be a {categories[predicted_class]}.\")\n",
    "\n",
    "\n",
    "categories = ['airplane', 'automobile', 'bird', 'cat', 'deer', 'dog', 'frog', 'horse', 'ship', 'truck']\n",
    "if predicted_class:\n",
    "    print(f\"The image is predicted to be an {categories[chosen_category]}.\")\n",
    "else:\n",
    "    print(f\"The image is predicted to not be an {categories[chosen_category]}.\")\n",
    "\n"
   ]
  },
  {
   "cell_type": "code",
   "execution_count": null,
   "id": "61bcb872",
   "metadata": {},
   "outputs": [],
   "source": []
  },
  {
   "cell_type": "markdown",
   "id": "9a2f6cd3",
   "metadata": {},
   "source": []
  },
  {
   "cell_type": "code",
   "execution_count": null,
   "id": "ed1776b6",
   "metadata": {},
   "outputs": [],
   "source": []
  }
 ],
 "metadata": {
  "kernelspec": {
   "display_name": "Python 3 (ipykernel)",
   "language": "python",
   "name": "python3"
  },
  "language_info": {
   "codemirror_mode": {
    "name": "ipython",
    "version": 3
   },
   "file_extension": ".py",
   "mimetype": "text/x-python",
   "name": "python",
   "nbconvert_exporter": "python",
   "pygments_lexer": "ipython3",
   "version": "3.9.13"
  }
 },
 "nbformat": 4,
 "nbformat_minor": 5
}
