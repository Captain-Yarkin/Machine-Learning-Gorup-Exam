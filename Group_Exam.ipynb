{
 "cells": [
  {
   "cell_type": "code",
   "execution_count": 12,
   "id": "42f19603",
   "metadata": {
    "scrolled": true
   },
   "outputs": [
    {
     "name": "stdout",
     "output_type": "stream",
     "text": [
      "Accuracy: 0.5981191222570533\n"
     ]
    }
   ],
   "source": [
    "from sklearn.naive_bayes import BernoulliNB\n",
    "from sklearn.naive_bayes import MultinomialNB\n",
    "from sklearn.feature_extraction.text import CountVectorizer\n",
    "from sklearn.model_selection import train_test_split\n",
    "from sklearn.metrics import accuracy_score\n",
    "import json\n",
    "\n",
    "texts = []\n",
    "sentiments = []\n",
    "\n",
    "f = open(\"Task 2/3class/train.json\", encoding=\"utf-8\")\n",
    "    \n",
    "data = json.load(f)\n",
    "for line in data:\n",
    "    \n",
    "    sentiment = line[\"label\"]\n",
    "    text = line[\"text\"]\n",
    "                    \n",
    "    texts.append(text) # splits tweet by spaces, and is it's own list as tweet 1\n",
    "    sentiments.append(sentiment)\n",
    "    \n",
    "# convert the training texts into a numerical representation, (output is a sparse matrix, each row - a text in the data, each column -unique word in the vocabulary)\n",
    "countVect = CountVectorizer()\n",
    "X = countVect.fit_transform(texts)\n",
    "    \n",
    "X_train, X_test, y_train, y_test = train_test_split(X, sentiments, test_size=0.2, random_state=0)\n",
    "\n",
    "# Create and fit the BernoulliNB classifier\n",
    "BernbClassifier = BernoulliNB()\n",
    "BernbClassifier.fit(X_train, y_train)\n",
    "\n",
    "prediction = BernbClassifier.predict(X_test)\n",
    "\n",
    "accuracy = accuracy_score(y_test, prediction)\n",
    "print(\"Accuracy:\", accuracy)\n"
   ]
  },
  {
   "cell_type": "code",
   "execution_count": null,
   "id": "835595b7",
   "metadata": {},
   "outputs": [],
   "source": []
  }
 ],
 "metadata": {
  "kernelspec": {
   "display_name": "Python 3 (ipykernel)",
   "language": "python",
   "name": "python3"
  },
  "language_info": {
   "codemirror_mode": {
    "name": "ipython",
    "version": 3
   },
   "file_extension": ".py",
   "mimetype": "text/x-python",
   "name": "python",
   "nbconvert_exporter": "python",
   "pygments_lexer": "ipython3",
   "version": "3.9.13"
  }
 },
 "nbformat": 4,
 "nbformat_minor": 5
}
